{
 "cells": [
  {
   "cell_type": "code",
   "execution_count": 1,
   "id": "94b9a9e1",
   "metadata": {},
   "outputs": [],
   "source": [
    "import os\n",
    "import sys\n",
    "\n",
    "sys.path.append(os.path.abspath(os.path.join(os.getcwd(), '..')))"
   ]
  },
  {
   "cell_type": "code",
   "execution_count": 2,
   "id": "afd267cd",
   "metadata": {},
   "outputs": [
    {
     "name": "stderr",
     "output_type": "stream",
     "text": [
      "\u001b[32m2025-05-20 18:03:34.964\u001b[0m | \u001b[1mINFO    \u001b[0m | \u001b[36mscripts.data.dataset\u001b[0m:\u001b[36mload_dataset\u001b[0m:\u001b[36m8\u001b[0m - \u001b[1mDados carregados de s3://ppca/mdm/pgfn/processed/dau_so_com9atributos_importantes_50NAOe50SIM.parquet\u001b[0m\n",
      "\u001b[32m2025-05-20 18:03:34.965\u001b[0m | \u001b[1mINFO    \u001b[0m | \u001b[36mscripts.data.dataset\u001b[0m:\u001b[36mload_dataset\u001b[0m:\u001b[36m12\u001b[0m - \u001b[1mAmostragem de 50.0% dos dados\u001b[0m\n",
      "\u001b[32m2025-05-20 18:03:35.156\u001b[0m | \u001b[1mINFO    \u001b[0m | \u001b[36mscripts.data.dataset\u001b[0m:\u001b[36mload_dataset\u001b[0m:\u001b[36m16\u001b[0m - \u001b[1mDados computados\u001b[0m\n"
     ]
    }
   ],
   "source": [
    "from scripts.data.dataset import load_dataset\n",
    "\n",
    "dataset = load_dataset(frac=0.5, compute=True)"
   ]
  },
  {
   "cell_type": "code",
   "execution_count": 6,
   "id": "864e0ecf",
   "metadata": {},
   "outputs": [
    {
     "data": {
      "text/plain": [
       "np.int64(0)"
      ]
     },
     "execution_count": 6,
     "metadata": {},
     "output_type": "execute_result"
    }
   ],
   "source": [
    "dataset[\"target\"].isna().sum()"
   ]
  },
  {
   "cell_type": "code",
   "execution_count": 7,
   "id": "5080f708",
   "metadata": {},
   "outputs": [
    {
     "data": {
      "application/vnd.microsoft.datawrangler.viewer.v0+json": {
       "columns": [
        {
         "name": "index",
         "rawType": "int64",
         "type": "integer"
        },
        {
         "name": "numero_inscricao",
         "rawType": "string",
         "type": "string"
        },
        {
         "name": "idade_divida_dias",
         "rawType": "float64",
         "type": "float"
        },
        {
         "name": "tipo_devedor",
         "rawType": "string",
         "type": "string"
        },
        {
         "name": "nm_porte",
         "rawType": "string",
         "type": "string"
        },
        {
         "name": "origem",
         "rawType": "string",
         "type": "string"
        },
        {
         "name": "situacao_inscricao",
         "rawType": "string",
         "type": "string"
        },
        {
         "name": "nm_situacao_cadastral",
         "rawType": "string",
         "type": "string"
        },
        {
         "name": "nm_regiao_politica",
         "rawType": "string",
         "type": "string"
        },
        {
         "name": "target",
         "rawType": "string",
         "type": "string"
        }
       ],
       "conversionMethod": "pd.DataFrame",
       "ref": "84c389fa-6b6e-4e2d-9d05-061490c33685",
       "rows": [],
       "shape": {
        "columns": 9,
        "rows": 0
       }
      },
      "text/html": [
       "<div>\n",
       "<style scoped>\n",
       "    .dataframe tbody tr th:only-of-type {\n",
       "        vertical-align: middle;\n",
       "    }\n",
       "\n",
       "    .dataframe tbody tr th {\n",
       "        vertical-align: top;\n",
       "    }\n",
       "\n",
       "    .dataframe thead th {\n",
       "        text-align: right;\n",
       "    }\n",
       "</style>\n",
       "<table border=\"1\" class=\"dataframe\">\n",
       "  <thead>\n",
       "    <tr style=\"text-align: right;\">\n",
       "      <th></th>\n",
       "      <th>numero_inscricao</th>\n",
       "      <th>idade_divida_dias</th>\n",
       "      <th>tipo_devedor</th>\n",
       "      <th>nm_porte</th>\n",
       "      <th>origem</th>\n",
       "      <th>situacao_inscricao</th>\n",
       "      <th>nm_situacao_cadastral</th>\n",
       "      <th>nm_regiao_politica</th>\n",
       "      <th>target</th>\n",
       "    </tr>\n",
       "  </thead>\n",
       "  <tbody>\n",
       "  </tbody>\n",
       "</table>\n",
       "</div>"
      ],
      "text/plain": [
       "Empty DataFrame\n",
       "Columns: [numero_inscricao, idade_divida_dias, tipo_devedor, nm_porte, origem, situacao_inscricao, nm_situacao_cadastral, nm_regiao_politica, target]\n",
       "Index: []"
      ]
     },
     "execution_count": 7,
     "metadata": {},
     "output_type": "execute_result"
    }
   ],
   "source": [
    "dataset[dataset['target'].isna()]"
   ]
  },
  {
   "cell_type": "code",
   "execution_count": null,
   "id": "23e796bb",
   "metadata": {},
   "outputs": [],
   "source": [
    "dataset"
   ]
  },
  {
   "cell_type": "code",
   "execution_count": null,
   "id": "94d18189",
   "metadata": {},
   "outputs": [],
   "source": [
    "from scripts.features.data_features import split_train_test\n",
    "\n",
    "\n",
    "X_train, X_test, y_train, y_test, preprocessor = split_train_test(dataset)"
   ]
  }
 ],
 "metadata": {
  "kernelspec": {
   "display_name": "venv",
   "language": "python",
   "name": "python3"
  },
  "language_info": {
   "codemirror_mode": {
    "name": "ipython",
    "version": 3
   },
   "file_extension": ".py",
   "mimetype": "text/x-python",
   "name": "python",
   "nbconvert_exporter": "python",
   "pygments_lexer": "ipython3",
   "version": "3.12.9"
  }
 },
 "nbformat": 4,
 "nbformat_minor": 5
}
