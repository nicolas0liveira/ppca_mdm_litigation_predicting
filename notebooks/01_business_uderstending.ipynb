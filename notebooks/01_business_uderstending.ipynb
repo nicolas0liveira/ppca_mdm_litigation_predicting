{
 "cells": [
  {
   "cell_type": "markdown",
   "id": "497e2f76",
   "metadata": {},
   "source": [
    "# Prevendo ajuizamento da dívida ativa da União (DAU)"
   ]
  },
  {
   "cell_type": "markdown",
   "id": "19088f9d",
   "metadata": {},
   "source": [
    "## Contexto"
   ]
  },
  {
   "cell_type": "markdown",
   "id": "516d168e",
   "metadata": {},
   "source": [
    " **Dívida Ativa da União (DAU)** é o conjunto de débitos que pessoas físicas ou jurídicas têm com o governo federal, e que não foram pagos dentro do prazo legal. Quando uma dívida com a União (como impostos, contribuições, multas, financiamentos etc.) não é paga, ela é inscrita na Dívida Ativa e passa a ser cobrada pela Procuradoria-Geral da Fazenda Nacional (PGFN).\n",
    "\n",
    "Exemplos comuns de débitos que vão para a Dívida Ativa:\n",
    "\n",
    "* Imposto de Renda não pago.\n",
    "* Contribuições previdenciárias em atraso.\n",
    "* Multas aplicadas por órgãos federais (como Ibama, ANTT, ANVISA etc.).\n",
    "* Débitos com o FGTS (para empresas).\n",
    "* Financiamentos de programas federais (como FIES ou Pronaf) não quitados.\n",
    "\n",
    "**O que acontece quando a dívida é inscrita na DAU?**\n",
    "\n",
    "* Juros e multas aumentam o valor da dívida.\n",
    "* O nome do devedor pode ser incluído em cadastros de inadimplentes (como Serasa).\n",
    "* A PGFN pode ajuizar execuções fiscais, ou seja, entrar na Justiça para cobrar a dívida.\n",
    "* Pode haver penhora de bens ou bloqueio de valores.\n",
    "* A dívida se torna título executivo, o que facilita a cobrança judicial.\n",
    "\n"
   ]
  },
  {
   "cell_type": "markdown",
   "id": "f9377e64",
   "metadata": {},
   "source": [
    "## Entendimento do Negócio (Business Understanding)\n",
    "\n",
    "`Compreensão dos objetivos e requisitos do projeto do ponto de vista do negócio. Define-se o problema que se quer resolver e os objetivos da análise.`"
   ]
  },
  {
   "cell_type": "markdown",
   "id": "c0c3344d",
   "metadata": {},
   "source": [
    "**Objetivo Primário:** Prever a probabilidade de uma dívida ser ajuizada com base em características do devedor e da dívida.\n",
    "\n",
    "**Objetivo Secundário:**  Entender quais fatores impactam a situação das dívidas, como o valor consolidado ou o tipo de crédito. Entender as causas mais comuns para uma dívida ser extinta ou suspensa.\n",
    "\n",
    "Quando falamos sobre como o CARF (Conselho Administrativo de Recursos Fiscais) lida com a judicialização de suas decisões, estamos tratando da possibilidade de que as partes envolvidas (contribuintes ou a Fazenda Nacional) contestem as decisões do CARF no Poder Judiciário, caso não concordem com o julgamento administrativo. O CARF é uma instância administrativa e suas decisões, embora vinculativas para a administração tributária, podem ser desafiadas judicialmente.\n",
    "\n",
    "Quando uma ação é ajuizada, o CARF enfrenta desafios operacionais e administrativos que podem afetar sua eficiência e imagem. O impacto mais significativo é indireto, no que diz respeito ao aumento de processos judiciais, ao consumo de recursos internos e à necessidade de responder às demandas do Judiciário."
   ]
  },
  {
   "cell_type": "markdown",
   "id": "88155988",
   "metadata": {},
   "source": [
    "\n",
    "**Os Custos Operacionais**\n",
    "\n",
    "Os custos operacionais estão contidos em\n",
    "\n",
    "* Gastos com servidores, juízes e estrutura do Judiciário.\n",
    "* Atuação da PGFN (procuradores, sistemas, recursos administrativos).\n",
    "* Tempo médio de tramitação (pode durar mais de 10 anos).\n",
    "* Baixo índice de recuperação (menos de 10% das execuções fiscais geram retorno efetivo).\n",
    "\n",
    "Para a Procuradoria-Geral da Fazenda Nacional (PGFN) ajuizar uma dívida — ou seja, mover uma ação de execução fiscal — esse custo varia conforme o estudo e a metodologia adotados.\n",
    "\n",
    "2011 -\n",
    "Um estudo do Instituto de Pesquisa Econômica Aplicada (IPEA) de 2011, encomendado pelo Conselho Nacional de Justiça (CNJ), apontou que a Justiça Federal gasta, em média, R$ 4.300,00 por processo de execução fiscal, excluindo embargos e recursos aos tribunais. Desse valor, R$ 1.800,00 correspondem à mão de obra envolvida na tramitação processual. <https://www.cnj.jus.br/wp-content/uploads/2011/02/relat_pesquisa_ipea_exec_fiscal.pdf>\n",
    "\n",
    "\n",
    "2011 - Custo Unitário do Processo de Execução Fiscal na Justiça Federal\n",
    "<https://www.cnj.jus.br/wp-content/uploads/2011/02/e42aabc7cb876c670096042fe52af676.pdf>\n",
    "\n",
    "2012 - Custo e tempo do processo de execução fiscal promovido pela Procuradoria Geral da Fazenda Nacional (PGFN) \n",
    "<https://repositorio.ipea.gov.br/bitstream/11058/4460/1/Comunicados_n127_Custo.pdf>\n",
    "\n",
    "\n",
    "Uma pesquisa realizada pela Faculdade de Direito de Ribeirão Preto da Universidade de São Paulo (FDRP/USP), em cooperação com a Procuradoria-Geral do Distrito Federal (PGDF) e o Tribunal de Justiça do Distrito Federal e Territórios (TJDFT), revelou que o custo médio dos processos de execução fiscal no Distrito Federal é de R$ 28.964,00\n",
    "<https://pg.df.gov.br/pesquisa-revela-que-custo-medio-dos-processos-de-execucao-fiscal-no-df-e-de-r-289-mil>\n",
    "<https://bit.ly/custo-execucao-fiscal-df>\n",
    "\n",
    "Outro estudo de 2015, aponta que (ler o estudo)\n",
    "<https://investidura.com.br/artigos/direito-tributario/a-in-efetividade-da-execucao-fiscal>\n",
    "OLIVEIRA, Roberto Machado de. <b>A (in) efetividade da execução fiscal</b>. Florianópolis: Portal Jurídico Investidura, 2015. Disponível em: <a href=\"https://investidura.com.br/artigos/direito-tributario/a-in-efetividade-da-execucao-fiscal/\">https://investidura.com.br/artigos/direito-tributario/a-in-efetividade-da-execucao-fiscal/</a> Acesso em: 20 abr. 2025\n",
    "\n",
    "\n",
    "outros links\n",
    "<https://repositorio.ufersa.edu.br/items/1e961bb6-b810-4be3-8021-4e84c32206c7>\n",
    "<https://www.cnj.jus.br/processo-de-execucao-fiscal-custa-em-media-r-43-mil/>\n",
    "<https://repositorio.ipea.gov.br/handle/11058/4460?locale=pt_BR>\n",
    "<https://www.cnj.jus.br/wp-content/uploads/2022/02/relatorio-contencioso-tributario-final-v10-2.pdf>\n",
    "\n",
    "**Implicações práticas**\n",
    "\n",
    "Diante dos altos custos e longos prazos de tramitação, a PGFN tem adotado critérios para ajuizamento de execuções fiscais, priorizando dívidas de maior valor e com maior probabilidade de recuperação. Além disso, tem-se incentivado o uso de meios alternativos de cobrança, como o protesto de certidões de dívida ativa, que costumam ser mais eficazes e menos onerosos.\n",
    "<https://www.cnj.jus.br/programas-e-acoes/execucao-fiscal/sobre-o-programa>\n",
    "\n",
    "Critérios para ajuizamento:\n",
    "\n",
    "* Dívidas acima de R$ 10.000,00 (valor pode variar com o tempo).\n",
    "* Casos com probabilidade razoável de recuperação.\n",
    "* Dívidas com garantias reais ou liquidez maior.\n",
    "\n",
    "Nos demais casos, a PGFN pode:\n",
    "\n",
    "* Cobrar administrativamente (via REGULARIZE, protesto, SERASA etc.).\n",
    "* Utilizar ferramentas como bloqueio via BacenJud/Sisbajud.\n",
    "* Oferecer transações tributárias para facilitar o pagamento."
   ]
  },
  {
   "cell_type": "markdown",
   "id": "baf6a631",
   "metadata": {},
   "source": [
    "## Proposta\n",
    "E se fosse possível antecipar o ajuizamento dos processos?\n",
    "\n",
    "Usar dados de 2022, 2023 e 2024 (do primeiro e quarto trimestres), ou seja, são 6 arquivos de 6 períodos diferentes e construir um modelo para precer ajuizamento.\n",
    "\n",
    "Modelo Random Forest\n",
    "Dask\n",
    "\n",
    "\n",
    "## Motivação e Objetivo Secundário:\n",
    "A previsão antecipada de possíveis ajuizamentos de dívidas pode permitir ações preventivas, reduzindo significativamente os custos operacionais do Estado. Com um modelo preditivo eficaz, seria possível:\n",
    "\n",
    "* Identificar padrões que levam ao ajuizamento\n",
    "* Implementar medidas preventivas focadas\n",
    "* Otimizar recursos públicos\n",
    "* Priorizar casos com maior probabilidade de recuperação\n",
    "* Incentivar a regularização prévia de débitos\n",
    "\n",
    "Esta abordagem proativa não apenas economiza recursos públicos, mas também beneficia os contribuintes ao evitar processos judiciais longos e onerosos."
   ]
  }
 ],
 "metadata": {
  "kernelspec": {
   "display_name": "venv",
   "language": "python",
   "name": "python3"
  },
  "language_info": {
   "codemirror_mode": {
    "name": "ipython",
    "version": 3
   },
   "file_extension": ".py",
   "mimetype": "text/x-python",
   "name": "python",
   "nbconvert_exporter": "python",
   "pygments_lexer": "ipython3",
   "version": "3.12.3"
  }
 },
 "nbformat": 4,
 "nbformat_minor": 5
}
